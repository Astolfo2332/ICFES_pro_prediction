{
 "cells": [
  {
   "cell_type": "markdown",
   "metadata": {},
   "source": [
    "<a href=\"https://githubtocolab.com/Astolfo2332/ICFES_pro_prediction/Final_proyect.ipynb\" target=\"_parent\"><img src=\"https://colab.research.google.com/assets/colab-badge.svg\" alt=\"Open in Colab\"/></a>"
   ]
  },
  {
   "cell_type": "markdown",
   "metadata": {},
   "source": [
    "<div style=\"display: flex; align-items: center;\">\n",
    "    <div>\n",
    "        <h2>Actividad final portafolio</h2>\n",
    "        <h2>Miguel López</h2>\n",
    "        <h2>ID 1001014378</h2>\n",
    "    </div>\n",
    "    <img src=\"https://yt3.ggpht.com/-10IUL9wra6k/AAAAAAAAAAI/AAAAAAAAAAA/UOBLu1uYOOE/s900-c-k-no/photo.jpg\" alt=\"Image description\" width=\"200\" style=\"margin-left: 20px;\"/>\n",
    "</div>"
   ]
  },
  {
   "cell_type": "markdown",
   "metadata": {},
   "source": [
    "## 0. Obtención de datos"
   ]
  },
  {
   "cell_type": "markdown",
   "metadata": {},
   "source": [
    "### 0.1 Por medio de Kaggle (recomendado)\n",
    "\n",
    "- Se debe tener una cuenta de Kaggle.\n",
    "- Descargar el token de acceso a traves de la pagina.\n",
    "- Crear una carpeta padre en la ubicación home de os llamada \"./kaggle\" . (este proceso se automatiza en este notebook solo es necesario tener el kaggle.json en la carpeta kaggle, aunque solo en entornos basados en UNIX)"
   ]
  },
  {
   "cell_type": "markdown",
   "metadata": {},
   "source": [
    "A traves de el api de kaggle"
   ]
  },
  {
   "cell_type": "code",
   "execution_count": null,
   "metadata": {},
   "outputs": [],
   "source": [
    "!mkdir -p ~/.kaggle\n",
    "!cp kaggle/kaggle.json ~/.kaggle/\n",
    "!kaggle competitions download -c udea-ai4eng-20242\n",
    "!unzip udea-ai4eng-20242.zip\n",
    "!mkdir data\n",
    "!mv *.csv data/"
   ]
  },
  {
   "cell_type": "markdown",
   "metadata": {},
   "source": [
    "### 0.2 A traves del One Drive de la universidad"
   ]
  },
  {
   "cell_type": "markdown",
   "metadata": {},
   "source": [
    "En construcción"
   ]
  },
  {
   "cell_type": "markdown",
   "metadata": {},
   "source": [
    "## 1. Exploración de la información"
   ]
  },
  {
   "cell_type": "markdown",
   "metadata": {},
   "source": [
    "### 1.1 Carga de datos "
   ]
  },
  {
   "cell_type": "code",
   "execution_count": 4,
   "metadata": {},
   "outputs": [],
   "source": [
    "import numpy as np\n",
    "import pandas as pd\n",
    "import matplotlib.pyplot as plt \n",
    "import seaborn as sns"
   ]
  },
  {
   "cell_type": "code",
   "execution_count": 5,
   "metadata": {},
   "outputs": [
    {
     "data": {
      "text/html": [
       "<div>\n",
       "<style scoped>\n",
       "    .dataframe tbody tr th:only-of-type {\n",
       "        vertical-align: middle;\n",
       "    }\n",
       "\n",
       "    .dataframe tbody tr th {\n",
       "        vertical-align: top;\n",
       "    }\n",
       "\n",
       "    .dataframe thead th {\n",
       "        text-align: right;\n",
       "    }\n",
       "</style>\n",
       "<table border=\"1\" class=\"dataframe\">\n",
       "  <thead>\n",
       "    <tr style=\"text-align: right;\">\n",
       "      <th></th>\n",
       "      <th>ID</th>\n",
       "      <th>PERIODO</th>\n",
       "      <th>ESTU_PRGM_ACADEMICO</th>\n",
       "      <th>ESTU_PRGM_DEPARTAMENTO</th>\n",
       "      <th>ESTU_VALORMATRICULAUNIVERSIDAD</th>\n",
       "      <th>ESTU_HORASSEMANATRABAJA</th>\n",
       "      <th>FAMI_ESTRATOVIVIENDA</th>\n",
       "      <th>FAMI_TIENEINTERNET</th>\n",
       "      <th>FAMI_EDUCACIONPADRE</th>\n",
       "      <th>FAMI_EDUCACIONMADRE</th>\n",
       "      <th>ESTU_PAGOMATRICULAPROPIO</th>\n",
       "      <th>RENDIMIENTO_GLOBAL</th>\n",
       "    </tr>\n",
       "  </thead>\n",
       "  <tbody>\n",
       "    <tr>\n",
       "      <th>0</th>\n",
       "      <td>904256</td>\n",
       "      <td>20212</td>\n",
       "      <td>ENFERMERIA</td>\n",
       "      <td>BOGOTÁ</td>\n",
       "      <td>Entre 5.5 millones y menos de 7 millones</td>\n",
       "      <td>Menos de 10 horas</td>\n",
       "      <td>Estrato 3</td>\n",
       "      <td>Si</td>\n",
       "      <td>Técnica o tecnológica incompleta</td>\n",
       "      <td>Postgrado</td>\n",
       "      <td>No</td>\n",
       "      <td>medio-alto</td>\n",
       "    </tr>\n",
       "    <tr>\n",
       "      <th>1</th>\n",
       "      <td>645256</td>\n",
       "      <td>20212</td>\n",
       "      <td>DERECHO</td>\n",
       "      <td>ATLANTICO</td>\n",
       "      <td>Entre 2.5 millones y menos de 4 millones</td>\n",
       "      <td>0</td>\n",
       "      <td>Estrato 3</td>\n",
       "      <td>No</td>\n",
       "      <td>Técnica o tecnológica completa</td>\n",
       "      <td>Técnica o tecnológica incompleta</td>\n",
       "      <td>No</td>\n",
       "      <td>bajo</td>\n",
       "    </tr>\n",
       "    <tr>\n",
       "      <th>2</th>\n",
       "      <td>308367</td>\n",
       "      <td>20203</td>\n",
       "      <td>MERCADEO Y PUBLICIDAD</td>\n",
       "      <td>BOGOTÁ</td>\n",
       "      <td>Entre 2.5 millones y menos de 4 millones</td>\n",
       "      <td>Más de 30 horas</td>\n",
       "      <td>Estrato 3</td>\n",
       "      <td>Si</td>\n",
       "      <td>Secundaria (Bachillerato) completa</td>\n",
       "      <td>Secundaria (Bachillerato) completa</td>\n",
       "      <td>No</td>\n",
       "      <td>bajo</td>\n",
       "    </tr>\n",
       "    <tr>\n",
       "      <th>3</th>\n",
       "      <td>470353</td>\n",
       "      <td>20195</td>\n",
       "      <td>ADMINISTRACION DE EMPRESAS</td>\n",
       "      <td>SANTANDER</td>\n",
       "      <td>Entre 4 millones y menos de 5.5 millones</td>\n",
       "      <td>0</td>\n",
       "      <td>Estrato 4</td>\n",
       "      <td>Si</td>\n",
       "      <td>No sabe</td>\n",
       "      <td>Secundaria (Bachillerato) completa</td>\n",
       "      <td>No</td>\n",
       "      <td>alto</td>\n",
       "    </tr>\n",
       "    <tr>\n",
       "      <th>4</th>\n",
       "      <td>989032</td>\n",
       "      <td>20212</td>\n",
       "      <td>PSICOLOGIA</td>\n",
       "      <td>ANTIOQUIA</td>\n",
       "      <td>Entre 2.5 millones y menos de 4 millones</td>\n",
       "      <td>Entre 21 y 30 horas</td>\n",
       "      <td>Estrato 3</td>\n",
       "      <td>Si</td>\n",
       "      <td>Primaria completa</td>\n",
       "      <td>Primaria completa</td>\n",
       "      <td>No</td>\n",
       "      <td>medio-bajo</td>\n",
       "    </tr>\n",
       "  </tbody>\n",
       "</table>\n",
       "</div>"
      ],
      "text/plain": [
       "       ID  PERIODO         ESTU_PRGM_ACADEMICO ESTU_PRGM_DEPARTAMENTO  \\\n",
       "0  904256    20212                  ENFERMERIA                 BOGOTÁ   \n",
       "1  645256    20212                     DERECHO              ATLANTICO   \n",
       "2  308367    20203       MERCADEO Y PUBLICIDAD                 BOGOTÁ   \n",
       "3  470353    20195  ADMINISTRACION DE EMPRESAS              SANTANDER   \n",
       "4  989032    20212                  PSICOLOGIA              ANTIOQUIA   \n",
       "\n",
       "             ESTU_VALORMATRICULAUNIVERSIDAD ESTU_HORASSEMANATRABAJA  \\\n",
       "0  Entre 5.5 millones y menos de 7 millones       Menos de 10 horas   \n",
       "1  Entre 2.5 millones y menos de 4 millones                       0   \n",
       "2  Entre 2.5 millones y menos de 4 millones         Más de 30 horas   \n",
       "3  Entre 4 millones y menos de 5.5 millones                       0   \n",
       "4  Entre 2.5 millones y menos de 4 millones     Entre 21 y 30 horas   \n",
       "\n",
       "  FAMI_ESTRATOVIVIENDA FAMI_TIENEINTERNET                 FAMI_EDUCACIONPADRE  \\\n",
       "0            Estrato 3                 Si    Técnica o tecnológica incompleta   \n",
       "1            Estrato 3                 No      Técnica o tecnológica completa   \n",
       "2            Estrato 3                 Si  Secundaria (Bachillerato) completa   \n",
       "3            Estrato 4                 Si                             No sabe   \n",
       "4            Estrato 3                 Si                   Primaria completa   \n",
       "\n",
       "                  FAMI_EDUCACIONMADRE ESTU_PAGOMATRICULAPROPIO  \\\n",
       "0                           Postgrado                       No   \n",
       "1    Técnica o tecnológica incompleta                       No   \n",
       "2  Secundaria (Bachillerato) completa                       No   \n",
       "3  Secundaria (Bachillerato) completa                       No   \n",
       "4                   Primaria completa                       No   \n",
       "\n",
       "  RENDIMIENTO_GLOBAL  \n",
       "0         medio-alto  \n",
       "1               bajo  \n",
       "2               bajo  \n",
       "3               alto  \n",
       "4         medio-bajo  "
      ]
     },
     "execution_count": 5,
     "metadata": {},
     "output_type": "execute_result"
    }
   ],
   "source": [
    "df = pd.read_csv(\"data/train.csv\")\n",
    "df.head()"
   ]
  }
 ],
 "metadata": {
  "kernelspec": {
   "display_name": "viu-AI",
   "language": "python",
   "name": "python3"
  },
  "language_info": {
   "codemirror_mode": {
    "name": "ipython",
    "version": 3
   },
   "file_extension": ".py",
   "mimetype": "text/x-python",
   "name": "python",
   "nbconvert_exporter": "python",
   "pygments_lexer": "ipython3",
   "version": "3.13.0"
  }
 },
 "nbformat": 4,
 "nbformat_minor": 2
}
